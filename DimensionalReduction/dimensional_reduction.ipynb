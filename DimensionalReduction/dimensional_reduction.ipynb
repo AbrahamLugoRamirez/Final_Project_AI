{
  "nbformat": 4,
  "nbformat_minor": 0,
  "metadata": {
    "colab": {
      "name": "dimensional reduction.ipynb",
      "provenance": [],
      "collapsed_sections": []
    },
    "kernelspec": {
      "name": "python3",
      "display_name": "Python 3"
    }
  },
  "cells": [
    {
      "cell_type": "code",
      "metadata": {
        "id": "HGd_llP4VVV9",
        "colab_type": "code",
        "outputId": "00bd93a0-791f-45c5-d676-884b5abd0cd2",
        "colab": {
          "base_uri": "https://localhost:8080/",
          "height": 148
        }
      },
      "source": [
        "#One time run to import the project to your drive\n",
        "!git clone https://github.com/KodeWil/final_project_AI_csv_Data.git"
      ],
      "execution_count": 1,
      "outputs": [
        {
          "output_type": "stream",
          "text": [
            "Cloning into 'final_project_AI_csv_Data'...\n",
            "remote: Enumerating objects: 211, done.\u001b[K\n",
            "remote: Counting objects: 100% (211/211), done.\u001b[K\n",
            "remote: Compressing objects: 100% (209/209), done.\u001b[K\n",
            "remote: Total 211 (delta 2), reused 211 (delta 2), pack-reused 0\u001b[K\n",
            "Receiving objects: 100% (211/211), 17.32 MiB | 14.12 MiB/s, done.\n",
            "Resolving deltas: 100% (2/2), done.\n"
          ],
          "name": "stdout"
        }
      ]
    },
    {
      "cell_type": "code",
      "metadata": {
        "id": "4u3FDv-AcWVH",
        "colab_type": "code",
        "colab": {}
      },
      "source": [
        "def addData(files: str) -> list:\n",
        "    allCsv = []\n",
        "    for file in files:\n",
        "      temp = open(file)\n",
        "      tempDf = pd.read_csv(file)\n",
        "      allCsv.append(tempDf)\n",
        "    return allCsv\n"
      ],
      "execution_count": 0,
      "outputs": []
    },
    {
      "cell_type": "code",
      "metadata": {
        "id": "Nixsy13kWqYz",
        "colab_type": "code",
        "colab": {}
      },
      "source": [
        "import pandas as pd \n",
        "import glob \n",
        "frames = []\n",
        "\n",
        "#Create a list ('frames') with four nested lists, one per sensor. \n",
        "#Each nested list have all the samples (DF) for that sensor.\n",
        "%cd /content/final_project_AI_csv_Data/phone/accel\n",
        "files = glob.glob('*.csv')\n",
        "files.sort()\n",
        "frames.append(addData(files))\n",
        "%cd /content/final_project_AI_csv_Data/phone/gyro\n",
        "files = glob.glob('*.csv')\n",
        "files.sort()\n",
        "frames.append(addData(files))\n",
        "%cd /content/final_project_AI_csv_Data/watch/accel\n",
        "files = glob.glob('*.csv')\n",
        "files.sort()\n",
        "frames.append(addData(files))\n",
        "%cd /content/final_project_AI_csv_Data/watch/gyro\n",
        "files = glob.glob('*.csv')\n",
        "files.sort()\n",
        "frames.append(addData(files))\n",
        "print(len(frames))\n",
        "# 0 in frames = /phone/accel\n",
        "# 1 in frames = /phone/gyro\n",
        "# 2 in frames = /watch/accel\n",
        "# 3 in frames = /watch/gyro"
      ],
      "execution_count": 0,
      "outputs": []
    },
    {
      "cell_type": "code",
      "metadata": {
        "id": "1acjlOjDo7z1",
        "colab_type": "code",
        "colab": {}
      },
      "source": [
        "import numpy as np\n",
        "from sklearn.decomposition import PCA\n",
        "from sklearn.decomposition import FastICA\n",
        "import matplotlib.pyplot as plt\n",
        "import copy\n",
        "from sklearn.manifold import LocallyLinearEmbedding\n",
        "from sklearn.manifold import MDS"
      ],
      "execution_count": 0,
      "outputs": []
    },
    {
      "cell_type": "code",
      "metadata": {
        "id": "iUkUFDt6hzDx",
        "colab_type": "code",
        "colab": {}
      },
      "source": [
        "def colorMap(difClass: list) -> list: #Funcion to color map the classes.\n",
        "    cMap = [\"#ff3333\", \"#ff7b33\", \"#ffc933\", \"#89ff33\", \"#33ff49\", \n",
        "           \"#33fff2\", \"#33aaff\", \"#335cff\", \"#5133ff\", \"#a333ff\",\n",
        "           \"#f133ff\", \"#e483b1\", \"#979797\", \"#752f7e\", \"#6d067b\",\n",
        "           \"#ff4dc7\", \"#c900bd\", \"#63002c\"]\n",
        "    cList = []\n",
        "    for i, values in enumerate(difClass):\n",
        "      color = cMap[difClass[i]]\n",
        "      cList.append(color)\n",
        "    return cList"
      ],
      "execution_count": 0,
      "outputs": []
    },
    {
      "cell_type": "code",
      "metadata": {
        "id": "aX5OEjhfPaUt",
        "colab_type": "code",
        "outputId": "9c169327-6c5f-4814-e351-c7d47649400e",
        "colab": {
          "base_uri": "https://localhost:8080/",
          "height": 36
        }
      },
      "source": [
        "# preparamos los datos para el clustering\n",
        "d_accel = frames[0][1]\n",
        "#d_accel = datos_accel\n",
        "print(d_accel.shape)"
      ],
      "execution_count": 5,
      "outputs": [
        {
          "output_type": "stream",
          "text": [
            "(407, 93)\n"
          ],
          "name": "stdout"
        }
      ]
    },
    {
      "cell_type": "code",
      "metadata": {
        "id": "zzLhU2j1r96m",
        "colab_type": "code",
        "colab": {}
      },
      "source": [
        "#Directly related features are wrapped in intervals on a list\n",
        "def selectFeatures(features) -> list:\n",
        "  labels = copy.deepcopy(features)\n",
        "  intervals = []\n",
        "  intervals.append(labels[1:30]) \n",
        "  intervals.append(labels[31:33]) # {X,Y,Z}AVG \n",
        "  intervals.append(labels[34:36]) # {X,Y,Z}PEAK \n",
        "  intervals.append(labels[37:39]) # {X,Y,Z}ABSOLDEV \n",
        "  intervals.append(labels[40:42]) # {X,Y,Z}STANDDEV \n",
        "  intervals.append(labels[43:45]) # {X,Y,Z}VAR* \n",
        "  intervals.append(labels[46:84]) # FCC\n",
        "  intervals.append(labels[85:87]) # COS\n",
        "  intervals.append(labels[88:90]) # COR\n",
        "  # intervals.append(labels[91:92]) # resultant\n",
        "  return intervals\n"
      ],
      "execution_count": 0,
      "outputs": []
    },
    {
      "cell_type": "code",
      "metadata": {
        "id": "NBvfUUTIPV0J",
        "colab_type": "code",
        "colab": {}
      },
      "source": [
        "def allPca(X):\n",
        "  pca = PCA(n_components=2,whiten=False).fit(X)\n",
        "  # print(pca.explained_variance_ratio_)\n",
        "  # print(pca.singular_values_)\n",
        "  transformados = pca.fit_transform(X)\n",
        "  # print(transformados.shape)\n",
        "  allPlot(transformados)"
      ],
      "execution_count": 0,
      "outputs": []
    },
    {
      "cell_type": "code",
      "metadata": {
        "id": "fPy_a78IK9Xk",
        "colab_type": "code",
        "colab": {}
      },
      "source": [
        "def allIca(X):\n",
        "  ica = FastICA(n_components=2,whiten=True).fit(X)\n",
        "  # print(pca.explained_variance_ratio_)\n",
        "  # print(pca.singular_values_)\n",
        "  transformados = ica.fit_transform(X)\n",
        "  # print(transformados.shape)\n",
        "  allPlot(transformados)"
      ],
      "execution_count": 0,
      "outputs": []
    },
    {
      "cell_type": "code",
      "metadata": {
        "id": "GRIUwkr0oiln",
        "colab_type": "code",
        "colab": {}
      },
      "source": [
        "def allLLE(X):\n",
        "  lle = LocallyLinearEmbedding(n_neighbors=201,n_components=2).fit(X)\n",
        "  transformados = lle.transform(X)\n",
        "  allPlot(transformados)"
      ],
      "execution_count": 0,
      "outputs": []
    },
    {
      "cell_type": "code",
      "metadata": {
        "id": "_rSFM2agqoTu",
        "colab_type": "code",
        "colab": {}
      },
      "source": [
        "def allMDS(X, metrica):\n",
        "  mds = MDS(n_components = 2,metric = metrica).fit(X)\n",
        "  transformados = mds.fit_transform(X)\n",
        "  allPlot(transformados)"
      ],
      "execution_count": 0,
      "outputs": []
    },
    {
      "cell_type": "code",
      "metadata": {
        "id": "yHr0BIhhHnBO",
        "colab_type": "code",
        "colab": {}
      },
      "source": [
        "def allPlot(transformados):\n",
        "  x = transformados[:,0]\n",
        "  y = transformados[:,1]\n",
        "  c = ground_truth\n",
        "  # c = colorMap(c)\n",
        "  fig, ax = plt.subplots(figsize=[10,10])\n",
        "  scatter = ax.scatter(x, y, c = c)\n",
        "  # produce a legend with the unique colors from the scatter\n",
        "  legend1 = ax.legend(*scatter.legend_elements(),\n",
        "                      loc = 1, title=\"Classes\")\n",
        "  ax.add_artist(legend1)\n",
        "\n",
        "  plt.show()"
      ],
      "execution_count": 0,
      "outputs": []
    },
    {
      "cell_type": "code",
      "metadata": {
        "id": "GyLGVQRuPZI-",
        "colab_type": "code",
        "colab": {}
      },
      "source": [
        "ground_truth = d_accel[[\"ACTIVITY\"]].values\n",
        "lookupTable, ground_truth = np.unique(ground_truth, return_inverse=True)\n",
        "columnas = list(d_accel.columns[1:92])\n",
        "wrapInf = selectFeatures(columnas)\n",
        "\n",
        "#PCA and ICA in that order\n",
        "for piece in wrapInf:\n",
        "  print(\"PCA and ICA for the features: \")\n",
        "  print(piece)\n",
        "  print(\"\")\n",
        "  X = d_accel[piece].values\n",
        "  print(\"PCA \")\n",
        "  print(\"\")\n",
        "  allPca(X)\n",
        "  print(\"ICA\")\n",
        "  print(\"\")\n",
        "  allIca(X)\n",
        "  print(\"\")\n",
        "\n",
        "#LLE and MDS (Non metric and Metric in that order)\n",
        "for piece in wrapInf:\n",
        "  print(\"LLE, MDS (non metric and  metric) for the features: \")\n",
        "  print(piece)\n",
        "  print(\"\")\n",
        "  X = d_accel[piece].values\n",
        "  print(\"LLE\")\n",
        "  print(\"\")\n",
        "  allLLE(X)\n",
        "  print(\"MDS non metric\")\n",
        "  print(\"\")\n",
        "  allMDS(X, False)\n",
        "  print(\"MDS metric\")\n",
        "  print(\"\")\n",
        "  allMDS(X, True)\n",
        "\n",
        "\n",
        "\n"
      ],
      "execution_count": 0,
      "outputs": []
    }
  ]
}