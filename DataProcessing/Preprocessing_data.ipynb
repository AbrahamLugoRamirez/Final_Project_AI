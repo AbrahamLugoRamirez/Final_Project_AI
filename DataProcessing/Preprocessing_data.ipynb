{
  "nbformat": 4,
  "nbformat_minor": 0,
  "metadata": {
    "kernelspec": {
      "display_name": "Python 3",
      "language": "python",
      "name": "python3"
    },
    "language_info": {
      "codemirror_mode": {
        "name": "ipython",
        "version": 3
      },
      "file_extension": ".py",
      "mimetype": "text/x-python",
      "name": "python",
      "nbconvert_exporter": "python",
      "pygments_lexer": "ipython3",
      "version": "3.6.5"
    },
    "colab": {
      "name": "Preprocessing data.ipynb",
      "provenance": []
    }
  },
  "cells": [
    {
      "cell_type": "code",
      "metadata": {
        "id": "YX89DTFzV49p",
        "colab_type": "code",
        "colab": {}
      },
      "source": [
        "# from google.colab import drive\n",
        "# drive.mount('/gdrive')"
      ],
      "execution_count": 0,
      "outputs": []
    },
    {
      "cell_type": "code",
      "metadata": {
        "id": "AsXI6Ax1yPch",
        "colab_type": "code",
        "colab": {}
      },
      "source": [
        "# import sys\n",
        "# from IPython.display import Image, display\n",
        "# import copy\n",
        "# import random"
      ],
      "execution_count": 0,
      "outputs": []
    },
    {
      "cell_type": "code",
      "metadata": {
        "id": "HP1ovrvVV49s",
        "colab_type": "code",
        "outputId": "d04d6be6-2ce9-4465-d6ab-b7b672c53e8c",
        "colab": {
          "base_uri": "https://localhost:8080/",
          "height": 66
        }
      },
      "source": [
        "%cd ..\n",
        "%cd /gdrive/My\\ Drive/Colab\\ Notebooks/AI/finalProject\n",
        "!pwd"
      ],
      "execution_count": 9,
      "outputs": [
        {
          "output_type": "stream",
          "text": [
            "/\n",
            "/gdrive/My Drive/Colab Notebooks/AI/finalProject\n",
            "/gdrive/My Drive/Colab Notebooks/AI/finalProject\n"
          ],
          "name": "stdout"
        }
      ]
    },
    {
      "cell_type": "code",
      "metadata": {
        "id": "licBpBiEdhdw",
        "colab_type": "code",
        "colab": {}
      },
      "source": [
        "# !wget http://archive.ics.uci.edu/ml/machine-learning-databases/00507/wisdm-dataset.zip"
      ],
      "execution_count": 0,
      "outputs": []
    },
    {
      "cell_type": "code",
      "metadata": {
        "id": "RKH_8HcddsqO",
        "colab_type": "code",
        "colab": {}
      },
      "source": [
        "# !ls -la\n",
        "# !unzip wisdm-dataset.zip\n",
        "# !ls -la"
      ],
      "execution_count": 0,
      "outputs": []
    },
    {
      "cell_type": "code",
      "metadata": {
        "id": "6kxFIvlTfLJ5",
        "colab_type": "code",
        "outputId": "7cd08416-0237-461b-ac51-f9db38a861d1",
        "colab": {
          "base_uri": "https://localhost:8080/",
          "height": 66
        }
      },
      "source": [
        "!pwd\n",
        "%cd wisdm-dataset/arff_files/watch/accel\n",
        "!pwd"
      ],
      "execution_count": 10,
      "outputs": [
        {
          "output_type": "stream",
          "text": [
            "/gdrive/My Drive/Colab Notebooks/AI/finalProject\n",
            "/gdrive/My Drive/Colab Notebooks/AI/finalProject/wisdm-dataset/arff_files/watch/accel\n",
            "/gdrive/My Drive/Colab Notebooks/AI/finalProject/wisdm-dataset/arff_files/watch/accel\n"
          ],
          "name": "stdout"
        }
      ]
    },
    {
      "cell_type": "code",
      "metadata": {
        "id": "tWhqeppkfPMk",
        "colab_type": "code",
        "colab": {}
      },
      "source": [
        "!ls -la *.arff"
      ],
      "execution_count": 0,
      "outputs": []
    },
    {
      "cell_type": "code",
      "metadata": {
        "id": "lrU2_RHrf5fv",
        "colab_type": "code",
        "colab": {}
      },
      "source": [
        "!pip install liac-arff"
      ],
      "execution_count": 0,
      "outputs": []
    },
    {
      "cell_type": "code",
      "metadata": {
        "id": "7p3dpD83d6Tf",
        "colab_type": "code",
        "colab": {}
      },
      "source": [
        "import glob \n",
        "files = glob.glob('*.arff')\n",
        "files.sort()\n",
        "print(files)"
      ],
      "execution_count": 0,
      "outputs": []
    },
    {
      "cell_type": "code",
      "metadata": {
        "id": "t3vOHe6Oxy0q",
        "colab_type": "code",
        "colab": {}
      },
      "source": [
        "def printAll(value):\n",
        "    with pd.option_context('display.max_rows', None, 'display.max_columns', None):  # more options can be specified also\n",
        "        display(value)"
      ],
      "execution_count": 0,
      "outputs": []
    },
    {
      "cell_type": "code",
      "metadata": {
        "id": "97X-ZFkDuzZg",
        "colab_type": "code",
        "colab": {}
      },
      "source": [
        "def dataList(sample):\n",
        "    #Create dataFrame\n",
        "    data = arff.load(open(sample)) \n",
        "    dfi = pd.DataFrame(data['data'])\n",
        "    return dfi"
      ],
      "execution_count": 0,
      "outputs": []
    },
    {
      "cell_type": "code",
      "metadata": {
        "id": "bvfAMvDV4Sz3",
        "colab_type": "code",
        "colab": {}
      },
      "source": [
        "def addColumns(dfr, features):\n",
        "  dfr.columns = features\n",
        "  return dfr"
      ],
      "execution_count": 0,
      "outputs": []
    },
    {
      "cell_type": "code",
      "metadata": {
        "id": "LeC3J02wV49j",
        "colab_type": "code",
        "colab": {}
      },
      "source": [
        "#From arff to data frame\n",
        "import arff\n",
        "import pandas as pd\n",
        "import numpy as np\n",
        "#Map all samples in dataframes\n",
        "samplesDf = list(map(dataList, files))\n",
        "#Extract columns' names\n",
        "data = arff.load(open(files[0]))\n",
        "atr = data[\"attributes\"]\n",
        "columnas = [atr[k][0] for k in range(len(atr))]\n",
        "samplesDf = [addColumns(m, columnas) for m in samplesDf]"
      ],
      "execution_count": 0,
      "outputs": []
    },
    {
      "cell_type": "code",
      "metadata": {
        "id": "Xi1LXh48rtBi",
        "colab_type": "code",
        "colab": {}
      },
      "source": [
        "def activityType(activity : str) -> int:\n",
        "    noHand = ['A', 'B', 'C', 'M', 'E']\n",
        "    eating = ['H', 'I', 'J', 'K', 'L']\n",
        "    if (activity in noHand):\n",
        "      return 0\n",
        "    elif (activity in eating):\n",
        "      return 1\n",
        "    else:\n",
        "      return 2\n"
      ],
      "execution_count": 0,
      "outputs": []
    },
    {
      "cell_type": "code",
      "metadata": {
        "id": "0LemuG_lsJ8e",
        "colab_type": "code",
        "colab": {}
      },
      "source": [
        "def mapActivitiesTemp(activities):\n",
        "  mapped = activities\n",
        "  map(activityType, mapped)"
      ],
      "execution_count": 0,
      "outputs": []
    },
    {
      "cell_type": "code",
      "metadata": {
        "id": "OfJkzSSx29VO",
        "colab_type": "code",
        "colab": {}
      },
      "source": [
        "def mapActivities(activities):\n",
        "  noHand = ['A', 'B', 'C', 'M', 'E']\n",
        "  eating = ['H', 'I', 'J', 'K', 'L']\n",
        "  mapped = activities\n",
        "  for i in range(0,len(activities)):\n",
        "    if (activities[i] in noHand):\n",
        "      mapped[i] = 0\n",
        "    elif (activities[i] in eating):\n",
        "      mapped[i] = 1\n",
        "    else:\n",
        "      mapped[i] = 2\n",
        "  return mapped"
      ],
      "execution_count": 0,
      "outputs": []
    },
    {
      "cell_type": "code",
      "metadata": {
        "id": "nFEJnfKtGZZW",
        "colab_type": "code",
        "colab": {}
      },
      "source": [
        "#Directly related features are wrapped in intervals on a list\n",
        "def selectFeatures(features) -> list:\n",
        "  labels = copy.deepcopy(features)\n",
        "  labels = labels.tolist()\n",
        "  intervals = []\n",
        "  atts = []\n",
        "  intervals.append([2, 31]) \n",
        "  intervals.append([32, 34]) # {X,Y,Z}AVG \n",
        "  intervals.append([35, 37]) # {X,Y,Z}PEAK \n",
        "  intervals.append([38, 40]) # {X,Y,Z}ABSOLDEV \n",
        "  intervals.append([41, 43]) # {X,Y,Z}STANDDEV \n",
        "  intervals.append([44, 46]) # {X,Y,Z}VAR* \n",
        "  intervals.append([47, 85]) # FCC\n",
        "  intervals.append([86, 88]) # COS\n",
        "  intervals.append([89, 91]) # COR\n",
        "  intervals.append([92, 92]) # resultant\n",
        "  selected = []\n",
        "  nFeatures = random.randint(0, 1)\n",
        "  for i in range (0, nFeatures + 1):\n",
        "    selected.append(i)\n",
        "\n",
        "  for element in selected:\n",
        "    ini, fin = intervals[element]\n",
        "    if (ini != 92):\n",
        "      for i in range(ini, fin + 1):\n",
        "        atts.append(features[i])\n",
        "    else:\n",
        "      atts.append(features[92])\n",
        "  return atts\n"
      ],
      "execution_count": 0,
      "outputs": []
    },
    {
      "cell_type": "code",
      "metadata": {
        "id": "-GjL097KwZaM",
        "colab_type": "code",
        "colab": {}
      },
      "source": [
        "#Kmeans clustering\n",
        "def scoreK(values, ground, clusters):\n",
        "  from sklearn.cluster import KMeans\n",
        "  from sklearn import metrics\n",
        "  # en n_clusters ponemos el número de actividades = 18\n",
        "  kmeans = KMeans(n_clusters=clusters).fit(values)\n",
        "  predicho = kmeans.predict(values)\n",
        "\n",
        "  # adjusted_rand_score entre -1 y 1, mayor que cero es bueno, 1 es perfecto\n",
        "  rand = metrics.adjusted_rand_score(ground, predicho)\n",
        "  rand = round(rand, 4)\n",
        "  \n",
        "  # adjusted_mutual_info_score 0 y 1, 1 es perfecto\n",
        "  mutual = metrics.adjusted_mutual_info_score(ground, predicho)\n",
        "  mutual = round(mutual, 4)\n",
        "  \n",
        "  score = (rand, mutual)\n",
        "  return score"
      ],
      "execution_count": 0,
      "outputs": []
    },
    {
      "cell_type": "code",
      "metadata": {
        "id": "JRjojAARwbGr",
        "colab_type": "code",
        "colab": {}
      },
      "source": [
        "#Agglomerative clustering\n",
        "def scoreAgglo(values, ground, clusters):\n",
        "  from sklearn.cluster import AgglomerativeClustering\n",
        "  from sklearn import metrics\n",
        "  \n",
        "  # en n_clusters ponemos el número de actividades = 18\n",
        "  aglo = AgglomerativeClustering(n_clusters= clusters).fit(values)\n",
        "  predicho = aglo.labels_\n",
        "\n",
        "  # adjusted_rand_score entre -1 y 1, mayor que cero es bueno, 1 es perfecto\n",
        "  rand = metrics.adjusted_rand_score(ground, predicho)\n",
        "  rand = round(rand, 4)\n",
        "\n",
        "  # adjusted_mutual_info_score 0 y 1, 1 es perfecto\n",
        "  mutual = metrics.adjusted_mutual_info_score(ground, predicho)\n",
        "  mutual = round(mutual, 4)\n",
        "\n",
        "  score = (rand, mutual)\n",
        "  return score"
      ],
      "execution_count": 0,
      "outputs": []
    },
    {
      "cell_type": "code",
      "metadata": {
        "id": "nRIkno9NjSP2",
        "colab_type": "code",
        "colab": {}
      },
      "source": [
        "#'' clustering\n",
        "def scoreSpecs(values, ground, clusters):\n",
        "\n",
        "  from sklearn.cluster import AgglomerativeClustering\n",
        "  from sklearn import metrics\n",
        "\n",
        "  # en n_clusters ponemos el número de actividades = 18\n",
        "  aglo = AgglomerativeClustering(n_clusters= clusters).fit(values)\n",
        "  predicho = aglo.labels_\n",
        "\n",
        "  # adjusted_rand_score entre -1 y 1, mayor que cero es bueno, 1 es perfecto\n",
        "  rand = metrics.adjusted_rand_score(ground, predicho)\n",
        "  \n",
        "  # adjusted_mutual_info_score 0 y 1, 1 es perfecto\n",
        "  mutual = metrics.adjusted_mutual_info_score(ground, predicho)\n",
        "  mutual = round(mutual, 4)\n",
        "  score.append(rand)\n",
        "  score.append(mutual)\n",
        "  return score"
      ],
      "execution_count": 0,
      "outputs": []
    },
    {
      "cell_type": "code",
      "metadata": {
        "id": "ObKRve70-9er",
        "colab_type": "code",
        "colab": {}
      },
      "source": [
        "#Calculate adjusted_rand_score and mutual_info_score for each sample and each clustering method\n",
        "def calcScore(sample):\n",
        "  \n",
        "  #Set values to evalute clustering score\n",
        "  ground_truth = sample[\"ACTIVITY\"].values\n",
        "  lookupTable, ground_truth = np.unique(ground_truth, return_inverse=True)\n",
        "  features = selectFeatures(sample.columns)\n",
        "  X = sample[features].values\n",
        "\n",
        "  #Evaluate clustering method\n",
        "\n",
        "  #Kmeans\n",
        "  temRand,temMutual = scoreK(X, ground_truth, 18)\n",
        "  scoresK = (temRand, temMutual)\n",
        "\n",
        "  #Agglomerative\n",
        "  temRand,temMutual = scoreAgglo(X, ground_truth, 18)\n",
        "  scoresAgglo = (temRand, temMutual)\n",
        "  scores = [scoresK, scoresAgglo]\n",
        "  return scores"
      ],
      "execution_count": 0,
      "outputs": []
    },
    {
      "cell_type": "code",
      "metadata": {
        "id": "DE8iZ8VRwTvk",
        "colab_type": "code",
        "outputId": "4e9ed6c6-a41d-457e-d036-c3329fc6c377",
        "colab": {
          "base_uri": "https://localhost:8080/",
          "height": 138
        }
      },
      "source": [
        "#rank is a list that contains 50 list (one per sample), a those 50 lists have a list for clustering method.\n",
        "# The most nested list contain the values for the two calculated scores\n",
        "rank = list(map(calcScore, samplesDf[:3]))\n",
        "scoreFrame = pd.DataFrame(rank)\n",
        "cluster = ['Kmeans', 'Agglomerative']\n",
        "scoreFrame.columns = cluster\n",
        "printAll(scoreFrame)"
      ],
      "execution_count": 91,
      "outputs": [
        {
          "output_type": "display_data",
          "data": {
            "text/html": [
              "<div>\n",
              "<style scoped>\n",
              "    .dataframe tbody tr th:only-of-type {\n",
              "        vertical-align: middle;\n",
              "    }\n",
              "\n",
              "    .dataframe tbody tr th {\n",
              "        vertical-align: top;\n",
              "    }\n",
              "\n",
              "    .dataframe thead th {\n",
              "        text-align: right;\n",
              "    }\n",
              "</style>\n",
              "<table border=\"1\" class=\"dataframe\">\n",
              "  <thead>\n",
              "    <tr style=\"text-align: right;\">\n",
              "      <th></th>\n",
              "      <th>Kmeans</th>\n",
              "      <th>Agglomerative</th>\n",
              "    </tr>\n",
              "  </thead>\n",
              "  <tbody>\n",
              "    <tr>\n",
              "      <th>0</th>\n",
              "      <td>(0.5779, 0.7518)</td>\n",
              "      <td>(0.5799, 0.7585)</td>\n",
              "    </tr>\n",
              "    <tr>\n",
              "      <th>1</th>\n",
              "      <td>(0.5403, 0.71)</td>\n",
              "      <td>(0.5813, 0.7469)</td>\n",
              "    </tr>\n",
              "    <tr>\n",
              "      <th>2</th>\n",
              "      <td>(0.3316, 0.5177)</td>\n",
              "      <td>(0.3422, 0.5258)</td>\n",
              "    </tr>\n",
              "  </tbody>\n",
              "</table>\n",
              "</div>"
            ],
            "text/plain": [
              "             Kmeans     Agglomerative\n",
              "0  (0.5779, 0.7518)  (0.5799, 0.7585)\n",
              "1    (0.5403, 0.71)  (0.5813, 0.7469)\n",
              "2  (0.3316, 0.5177)  (0.3422, 0.5258)"
            ]
          },
          "metadata": {
            "tags": []
          }
        }
      ]
    },
    {
      "cell_type": "code",
      "metadata": {
        "id": "S19I1Mjy7kxk",
        "colab_type": "code",
        "colab": {}
      },
      "source": [
        "# Wrap activities in three categories as suggested in dataset description \n",
        "# seleccionar = [\"ACTIVITY\"]\n",
        "# X = allData[seleccionar].values\n",
        "# activityType = copy.deepcopy(X)\n",
        "# activityType = mapActivities(activityType)\n",
        "# allData.insert(0, \"actType\", activityType, True)"
      ],
      "execution_count": 0,
      "outputs": []
    }
  ]
}