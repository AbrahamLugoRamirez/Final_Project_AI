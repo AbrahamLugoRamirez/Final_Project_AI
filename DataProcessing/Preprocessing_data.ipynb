{
  "nbformat": 4,
  "nbformat_minor": 0,
  "metadata": {
    "kernelspec": {
      "display_name": "Python 3",
      "language": "python",
      "name": "python3"
    },
    "language_info": {
      "codemirror_mode": {
        "name": "ipython",
        "version": 3
      },
      "file_extension": ".py",
      "mimetype": "text/x-python",
      "name": "python",
      "nbconvert_exporter": "python",
      "pygments_lexer": "ipython3",
      "version": "3.6.5"
    },
    "colab": {
      "name": "Preprocessing data.ipynb",
      "provenance": [],
      "collapsed_sections": [],
      "toc_visible": true
    }
  },
  "cells": [
    {
      "cell_type": "code",
      "metadata": {
        "id": "ezY66AXDmPMd",
        "colab_type": "code",
        "colab": {
          "base_uri": "https://localhost:8080/",
          "height": 33
        },
        "outputId": "da4c1c0e-cc4b-4f81-bf95-91fcb3ff556d"
      },
      "source": [
        "#One time run to import the project to your drive\n",
        "!git clone https://github.com/KodeWil/final_project_AI_csv_Data.git"
      ],
      "execution_count": 77,
      "outputs": [
        {
          "output_type": "stream",
          "text": [
            "fatal: destination path 'final_project_AI_csv_Data' already exists and is not an empty directory.\n"
          ],
          "name": "stdout"
        }
      ]
    },
    {
      "cell_type": "code",
      "metadata": {
        "id": "3XE5qipunTUr",
        "colab_type": "code",
        "colab": {}
      },
      "source": [
        "def addData(files: str) -> list:\n",
        "    allCsv = []\n",
        "    for file in files:\n",
        "      temp = open(file)\n",
        "      tempDf = pd.read_csv(file)\n",
        "      allCsv.append(tempDf)\n",
        "    return allCsv"
      ],
      "execution_count": 0,
      "outputs": []
    },
    {
      "cell_type": "code",
      "metadata": {
        "id": "uEstkKVYmRzB",
        "colab_type": "code",
        "colab": {
          "base_uri": "https://localhost:8080/",
          "height": 83
        },
        "outputId": "25be61de-4ee4-4329-cef7-739d5dd6dbf3"
      },
      "source": [
        "import pandas as pd \n",
        "import glob \n",
        "frames = []\n",
        "\n",
        "#Create a list ('frames') with four nested lists, one per sensor. \n",
        "#Each nested list have all the samples (DF) for that sensor.\n",
        "%cd /content/final_project_AI_csv_Data/phone/accel\n",
        "files = glob.glob('*.csv')\n",
        "files.sort()\n",
        "frames.append(addData(files))\n",
        "%cd /content/final_project_AI_csv_Data/phone/gyro\n",
        "files = glob.glob('*.csv')\n",
        "files.sort()\n",
        "frames.append(addData(files))\n",
        "%cd /content/final_project_AI_csv_Data/watch/accel\n",
        "files = glob.glob('*.csv')\n",
        "files.sort()\n",
        "frames.append(addData(files))\n",
        "%cd /content/final_project_AI_csv_Data/watch/gyro\n",
        "files = glob.glob('*.csv')\n",
        "files.sort()\n",
        "frames.append(addData(files))\n",
        "# 0 in frames = /phone/accel\n",
        "# 1 in frames = /phone/gyro\n",
        "# 2 in frames = /watch/accel\n",
        "# 3 in frames = /watch/gyro"
      ],
      "execution_count": 79,
      "outputs": [
        {
          "output_type": "stream",
          "text": [
            "/content/final_project_AI_csv_Data/phone/accel\n",
            "/content/final_project_AI_csv_Data/phone/gyro\n",
            "/content/final_project_AI_csv_Data/watch/accel\n",
            "/content/final_project_AI_csv_Data/watch/gyro\n"
          ],
          "name": "stdout"
        }
      ]
    },
    {
      "cell_type": "code",
      "metadata": {
        "id": "AsXI6Ax1yPch",
        "colab_type": "code",
        "colab": {}
      },
      "source": [
        "import sys\n",
        "from IPython.display import Image, display\n",
        "import copy\n",
        "import random\n",
        "import pandas as pd\n",
        "import numpy as np"
      ],
      "execution_count": 0,
      "outputs": []
    },
    {
      "cell_type": "code",
      "metadata": {
        "id": "t3vOHe6Oxy0q",
        "colab_type": "code",
        "colab": {}
      },
      "source": [
        "def printAll(value):\n",
        "    with pd.option_context('display.max_rows', None, 'display.max_columns', None):  # more options can be specified also\n",
        "        display(value)"
      ],
      "execution_count": 0,
      "outputs": []
    },
    {
      "cell_type": "code",
      "metadata": {
        "id": "Xi1LXh48rtBi",
        "colab_type": "code",
        "colab": {}
      },
      "source": [
        "def activityType(activity : str) -> int:\n",
        "    noHand = ['A', 'B', 'C', 'M', 'E']\n",
        "    eating = ['H', 'I', 'J', 'K', 'L']\n",
        "    if (activity in noHand):\n",
        "      return 0\n",
        "    elif (activity in eating):\n",
        "      return 1\n",
        "    else:\n",
        "      return 2\n"
      ],
      "execution_count": 0,
      "outputs": []
    },
    {
      "cell_type": "code",
      "metadata": {
        "id": "0LemuG_lsJ8e",
        "colab_type": "code",
        "colab": {}
      },
      "source": [
        "def mapActivitiesTemp(activities):\n",
        "  mapped = activities\n",
        "  map(activityType, mapped)"
      ],
      "execution_count": 0,
      "outputs": []
    },
    {
      "cell_type": "code",
      "metadata": {
        "id": "OfJkzSSx29VO",
        "colab_type": "code",
        "colab": {}
      },
      "source": [
        "def mapActivities(activities):\n",
        "  noHand = ['A', 'B', 'C', 'M', 'E']\n",
        "  eating = ['H', 'I', 'J', 'K', 'L']\n",
        "  mapped = activities\n",
        "  for i in range(0,len(activities)):\n",
        "    if (activities[i] in noHand):\n",
        "      mapped[i] = 0\n",
        "    elif (activities[i] in eating):\n",
        "      mapped[i] = 1\n",
        "    else:\n",
        "      mapped[i] = 2\n",
        "  return mapped"
      ],
      "execution_count": 0,
      "outputs": []
    },
    {
      "cell_type": "code",
      "metadata": {
        "id": "nFEJnfKtGZZW",
        "colab_type": "code",
        "colab": {}
      },
      "source": [
        "#Directly related features are wrapped in intervals on a list\n",
        "def selectFeatures(features) -> list:\n",
        "  labels = copy.deepcopy(features)\n",
        "  labels = labels.tolist()\n",
        "  intervals = []\n",
        "  atts = []\n",
        "  intervals.append([2, 31]) \n",
        "  intervals.append([32, 34]) # {X,Y,Z}AVG \n",
        "  intervals.append([35, 37]) # {X,Y,Z}PEAK \n",
        "  intervals.append([38, 40]) # {X,Y,Z}ABSOLDEV \n",
        "  intervals.append([41, 43]) # {X,Y,Z}STANDDEV \n",
        "  intervals.append([44, 46]) # {X,Y,Z}VAR* \n",
        "  intervals.append([47, 85]) # FCC\n",
        "  intervals.append([86, 88]) # COS\n",
        "  intervals.append([89, 91]) # COR\n",
        "  intervals.append([92, 92]) # resultant\n",
        "  selected = []\n",
        "  nFeatures = random.randint(0, 1)\n",
        "  for i in range (0, nFeatures + 1):\n",
        "    selected.append(i)\n",
        "\n",
        "  for element in selected:\n",
        "    ini, fin = intervals[element]\n",
        "    if (ini != 92):\n",
        "      for i in range(ini, fin + 1):\n",
        "        atts.append(features[i])\n",
        "    else:\n",
        "      atts.append(features[92])\n",
        "  return atts\n"
      ],
      "execution_count": 0,
      "outputs": []
    },
    {
      "cell_type": "code",
      "metadata": {
        "id": "-GjL097KwZaM",
        "colab_type": "code",
        "colab": {}
      },
      "source": [
        "#Kmeans clustering\n",
        "def scoreK(values, ground, clusters):\n",
        "  from sklearn.cluster import KMeans\n",
        "  from sklearn import metrics\n",
        "  # en n_clusters ponemos el número de actividades = 18\n",
        "  kmeans = KMeans(n_clusters=clusters).fit(values)\n",
        "  predicho = kmeans.predict(values)\n",
        "\n",
        "  # adjusted_rand_score entre -1 y 1, mayor que cero es bueno, 1 es perfecto\n",
        "  rand = metrics.adjusted_rand_score(ground, predicho)\n",
        "  rand = round(rand, 4)\n",
        "  \n",
        "  # adjusted_mutual_info_score 0 y 1, 1 es perfecto\n",
        "  mutual = metrics.adjusted_mutual_info_score(ground, predicho)\n",
        "  mutual = round(mutual, 4)\n",
        "  \n",
        "  score = (rand, mutual)\n",
        "  return score"
      ],
      "execution_count": 0,
      "outputs": []
    },
    {
      "cell_type": "code",
      "metadata": {
        "id": "JRjojAARwbGr",
        "colab_type": "code",
        "colab": {}
      },
      "source": [
        "#Agglomerative clustering\n",
        "def scoreAgglo(values, ground, clusters):\n",
        "  from sklearn.cluster import AgglomerativeClustering\n",
        "  from sklearn import metrics\n",
        "  \n",
        "  # en n_clusters ponemos el número de actividades = 18\n",
        "  aglo = AgglomerativeClustering(n_clusters= clusters).fit(values)\n",
        "  predicho = aglo.labels_\n",
        "\n",
        "  # adjusted_rand_score entre -1 y 1, mayor que cero es bueno, 1 es perfecto\n",
        "  rand = metrics.adjusted_rand_score(ground, predicho)\n",
        "  rand = round(rand, 4)\n",
        "\n",
        "  # adjusted_mutual_info_score 0 y 1, 1 es perfecto\n",
        "  mutual = metrics.adjusted_mutual_info_score(ground, predicho)\n",
        "  mutual = round(mutual, 4)\n",
        "\n",
        "  score = (rand, mutual)\n",
        "  return score"
      ],
      "execution_count": 0,
      "outputs": []
    },
    {
      "cell_type": "code",
      "metadata": {
        "id": "nRIkno9NjSP2",
        "colab_type": "code",
        "colab": {}
      },
      "source": [
        "#'' clustering\n",
        "def scoreSpecs(values, ground, clusters):\n",
        "\n",
        "  from sklearn.cluster import AgglomerativeClustering\n",
        "  from sklearn import metrics\n",
        "\n",
        "  # en n_clusters ponemos el número de actividades = 18\n",
        "  aglo = AgglomerativeClustering(n_clusters= clusters).fit(values)\n",
        "  predicho = aglo.labels_\n",
        "\n",
        "  # adjusted_rand_score entre -1 y 1, mayor que cero es bueno, 1 es perfecto\n",
        "  rand = metrics.adjusted_rand_score(ground, predicho)\n",
        "  \n",
        "  # adjusted_mutual_info_score 0 y 1, 1 es perfecto\n",
        "  mutual = metrics.adjusted_mutual_info_score(ground, predicho)\n",
        "  mutual = round(mutual, 4)\n",
        "  score.append(rand)\n",
        "  score.append(mutual)\n",
        "  return score"
      ],
      "execution_count": 0,
      "outputs": []
    },
    {
      "cell_type": "code",
      "metadata": {
        "id": "ObKRve70-9er",
        "colab_type": "code",
        "colab": {}
      },
      "source": [
        "#Calculate adjusted_rand_score and mutual_info_score for each sample and each clustering method\n",
        "def calcScore(sample):\n",
        "  \n",
        "  #Set values to evalute clustering score\n",
        "  ground_truth = sample[\"ACTIVITY\"].values\n",
        "  lookupTable, ground_truth = np.unique(ground_truth, return_inverse=True)\n",
        "  features = selectFeatures(sample.columns)\n",
        "  X = sample[features].values\n",
        "\n",
        "  #Evaluate clustering method\n",
        "\n",
        "  #Kmeans\n",
        "  temRand,temMutual = scoreK(X, ground_truth, 18)\n",
        "  scoresK = (temRand, temMutual)\n",
        "\n",
        "  #Agglomerative\n",
        "  temRand,temMutual = scoreAgglo(X, ground_truth, 18)\n",
        "  scoresAgglo = (temRand, temMutual)\n",
        "  scores = [scoresK, scoresAgglo]\n",
        "  return scores"
      ],
      "execution_count": 0,
      "outputs": []
    },
    {
      "cell_type": "code",
      "metadata": {
        "id": "DE8iZ8VRwTvk",
        "colab_type": "code",
        "colab": {}
      },
      "source": [
        "#rank is a list that contains 50 list (one per sample), a those 50 lists have a list for clustering method.\n",
        "# The most nested list contain the values for the two calculated scores\n",
        "def sensorScores(samplesDf):\n",
        "  rank = list(map(calcScore, samplesDf))\n",
        "  scoreFrame = pd.DataFrame(rank)\n",
        "  cluster = ['Kmeans', 'Agglomerative']\n",
        "  scoreFrame.columns = cluster\n",
        "  return scoreFrame"
      ],
      "execution_count": 0,
      "outputs": []
    },
    {
      "cell_type": "code",
      "metadata": {
        "id": "MLngoBCOm4lF",
        "colab_type": "code",
        "colab": {}
      },
      "source": [
        "allRanks = list(map(sensorScores, frames))\n"
      ],
      "execution_count": 0,
      "outputs": []
    },
    {
      "cell_type": "code",
      "metadata": {
        "id": "kPOfh8UCyx5X",
        "colab_type": "code",
        "colab": {
          "base_uri": "https://localhost:8080/",
          "height": 868
        },
        "outputId": "bcd30088-d4eb-4626-9ed8-eec05ed9ce68"
      },
      "source": [
        "print(allRanks[0])"
      ],
      "execution_count": 95,
      "outputs": [
        {
          "output_type": "stream",
          "text": [
            "              Kmeans     Agglomerative\n",
            "0   (0.3469, 0.5548)  (0.3391, 0.5617)\n",
            "1   (0.3151, 0.5505)   (0.331, 0.5646)\n",
            "2   (0.2356, 0.4955)  (0.2416, 0.4976)\n",
            "3   (0.5352, 0.7524)    (0.542, 0.765)\n",
            "4   (0.2547, 0.5134)  (0.2416, 0.4976)\n",
            "5   (0.2277, 0.4901)  (0.2416, 0.4976)\n",
            "6   (0.2631, 0.5041)  (0.2416, 0.4976)\n",
            "7   (0.2412, 0.4967)  (0.2416, 0.4976)\n",
            "8   (0.2295, 0.4906)  (0.2416, 0.4976)\n",
            "9   (0.5921, 0.7591)   (0.621, 0.7638)\n",
            "10  (0.2076, 0.4144)  (0.2311, 0.4607)\n",
            "11   (0.375, 0.5882)  (0.3335, 0.5715)\n",
            "12  (0.5692, 0.7511)  (0.5721, 0.7581)\n",
            "13   (0.4131, 0.612)   (0.425, 0.6313)\n",
            "14  (0.4286, 0.6387)   (0.393, 0.6245)\n",
            "15  (0.6021, 0.7465)  (0.5967, 0.7503)\n",
            "16  (0.1437, 0.3535)  (0.1402, 0.3485)\n",
            "17  (0.6342, 0.7806)  (0.6798, 0.8155)\n",
            "18   (0.259, 0.5229)  (0.3025, 0.5605)\n",
            "19  (0.3028, 0.5281)  (0.3134, 0.5339)\n",
            "20  (0.2953, 0.5376)   (0.317, 0.5688)\n",
            "21  (0.4399, 0.6259)  (0.4182, 0.6235)\n",
            "22  (0.3525, 0.5617)  (0.3626, 0.5643)\n",
            "23  (0.7361, 0.8441)  (0.7364, 0.8443)\n",
            "24  (0.5144, 0.7311)    (0.519, 0.736)\n",
            "25  (0.3236, 0.5457)  (0.3322, 0.5513)\n",
            "26  (0.3675, 0.5803)  (0.3315, 0.5751)\n",
            "27  (0.6156, 0.8015)   (0.6544, 0.817)\n",
            "28  (0.6475, 0.8316)  (0.6735, 0.8468)\n",
            "29  (0.3668, 0.5718)  (0.3919, 0.5801)\n",
            "30  (0.4492, 0.6242)  (0.4669, 0.6271)\n",
            "31  (0.3343, 0.5176)   (0.3087, 0.511)\n",
            "32   (0.5061, 0.676)  (0.5396, 0.6955)\n",
            "33  (0.4309, 0.6476)  (0.4426, 0.6586)\n",
            "34  (0.2665, 0.4731)  (0.3169, 0.5307)\n",
            "35  (0.1252, 0.3193)   (0.134, 0.3414)\n",
            "36  (0.2119, 0.4418)  (0.1943, 0.4316)\n",
            "37  (0.6045, 0.7864)  (0.5986, 0.7988)\n",
            "38  (0.4633, 0.6538)  (0.5054, 0.6818)\n",
            "39  (0.4772, 0.6675)  (0.4883, 0.6875)\n",
            "40  (0.1704, 0.3577)  (0.1692, 0.3648)\n",
            "41  (0.4778, 0.6874)  (0.4964, 0.7047)\n",
            "42   (0.5858, 0.774)   (0.597, 0.7835)\n",
            "43   (0.3175, 0.565)   (0.358, 0.5955)\n",
            "44  (0.2251, 0.4493)  (0.2305, 0.4527)\n",
            "45  (0.4989, 0.6956)    (0.46, 0.6826)\n",
            "46  (0.3498, 0.5625)  (0.3944, 0.6055)\n",
            "47  (0.6689, 0.8072)  (0.7032, 0.8334)\n",
            "48  (0.4401, 0.6595)  (0.4451, 0.6653)\n",
            "49   (0.3254, 0.545)  (0.3054, 0.5263)\n"
          ],
          "name": "stdout"
        }
      ]
    },
    {
      "cell_type": "code",
      "metadata": {
        "id": "S19I1Mjy7kxk",
        "colab_type": "code",
        "colab": {}
      },
      "source": [
        "# Wrap activities in three categories as suggested in dataset description \n",
        "# seleccionar = [\"ACTIVITY\"]\n",
        "# X = allData[seleccionar].values\n",
        "# activityType = copy.deepcopy(X)\n",
        "# activityType = mapActivities(activityType)\n",
        "# allData.insert(0, \"actType\", activityType, True)"
      ],
      "execution_count": 0,
      "outputs": []
    }
  ]
}